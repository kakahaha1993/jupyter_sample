{
 "cells": [
  {
   "cell_type": "code",
   "execution_count": 1,
   "metadata": {},
   "outputs": [],
   "source": [
    "import numpy as np\n",
    "import matplotlib.pyplot as plt\n",
    "import pandas as pd\n",
    "from pandas import Series, DataFrame\n",
    "\n",
    "from numpy.random import normal"
   ]
  },
  {
   "cell_type": "code",
   "execution_count": 2,
   "metadata": {},
   "outputs": [],
   "source": [
    "yokohama_amd = pd.read_csv(\"../../../../../../media/kitawaki/601C4C0D1C4BDD22/気象データ/amd3/amd_46106.tsv\", delimiter='\\t')"
   ]
  },
  {
   "cell_type": "code",
   "execution_count": 3,
   "metadata": {
    "scrolled": true
   },
   "outputs": [
    {
     "name": "stdout",
     "output_type": "stream",
     "text": [
      "276048\n"
     ]
    },
    {
     "data": {
      "text/plain": [
       "datetime         0\n",
       "pr               0\n",
       "f_pr             0\n",
       "max_ws          36\n",
       "f_max_ws         0\n",
       "ave_wv          35\n",
       "f_ave_wv         0\n",
       "ave_ws          35\n",
       "f_ave_ws         0\n",
       "max_tp          89\n",
       "f_max_tp         0\n",
       "min_tp          89\n",
       "f_min_tp         0\n",
       "sl              27\n",
       "f_sl             0\n",
       "sd          142507\n",
       "f_sd             0\n",
       "dsd         142545\n",
       "f_dsd            0\n",
       "dtype: int64"
      ]
     },
     "execution_count": 3,
     "metadata": {},
     "output_type": "execute_result"
    }
   ],
   "source": [
    "print(len(yokohama_amd.index))\n",
    "yokohama_amd.isnull().sum()"
   ]
  },
  {
   "cell_type": "code",
   "execution_count": 4,
   "metadata": {},
   "outputs": [],
   "source": [
    "ebina_amd = pd.read_csv(\"../../../../../../media/kitawaki/601C4C0D1C4BDD22/気象データ/amd3/amd_46091.tsv\", delimiter='\\t')"
   ]
  },
  {
   "cell_type": "code",
   "execution_count": 5,
   "metadata": {},
   "outputs": [
    {
     "name": "stdout",
     "output_type": "stream",
     "text": [
      "276048\n"
     ]
    },
    {
     "data": {
      "text/plain": [
       "datetime         0\n",
       "pr              35\n",
       "f_pr             9\n",
       "max_ws          65\n",
       "f_max_ws         9\n",
       "ave_wv          64\n",
       "f_ave_wv         9\n",
       "ave_ws          65\n",
       "f_ave_ws         9\n",
       "max_tp          70\n",
       "f_max_tp         9\n",
       "min_tp          70\n",
       "f_min_tp         9\n",
       "sl              51\n",
       "f_sl             9\n",
       "sd          276026\n",
       "f_sd             9\n",
       "dsd         276035\n",
       "f_dsd            9\n",
       "dtype: int64"
      ]
     },
     "execution_count": 5,
     "metadata": {},
     "output_type": "execute_result"
    }
   ],
   "source": [
    "print(len(ebina_amd.index))\n",
    "ebina_amd.isnull().sum()"
   ]
  },
  {
   "cell_type": "code",
   "execution_count": 6,
   "metadata": {},
   "outputs": [],
   "source": [
    "yokohama_amd = yokohama_amd.fillna(ebina_amd)"
   ]
  },
  {
   "cell_type": "code",
   "execution_count": 7,
   "metadata": {},
   "outputs": [
    {
     "data": {
      "text/plain": [
       "datetime         0\n",
       "pr               0\n",
       "f_pr             0\n",
       "max_ws           0\n",
       "f_max_ws         0\n",
       "ave_wv           0\n",
       "f_ave_wv         0\n",
       "ave_ws           0\n",
       "f_ave_ws         0\n",
       "max_tp           0\n",
       "f_max_tp         0\n",
       "min_tp           0\n",
       "f_min_tp         0\n",
       "sl               0\n",
       "f_sl             0\n",
       "sd          142485\n",
       "f_sd             0\n",
       "dsd         142532\n",
       "f_dsd            0\n",
       "dtype: int64"
      ]
     },
     "execution_count": 7,
     "metadata": {},
     "output_type": "execute_result"
    }
   ],
   "source": [
    "yokohama_amd.isnull().sum()"
   ]
  },
  {
   "cell_type": "code",
   "execution_count": 10,
   "metadata": {},
   "outputs": [
    {
     "data": {
      "image/png": "[encoded data removed]",
      "text/plain": [
       "<matplotlib.figure.Figure at 0x7f5b7a3196a0>"
      ]
     },
     "metadata": {},
     "output_type": "display_data"
    }
   ],
   "source": [
    "forecast_kanagawa = pd.read_csv(\"../../../../../../media/kitawaki/601C4C0D1C4BDD22/気象データ/forecast/forecast_kanagawa.tsv\", delimiter='\\t')\n",
    "forecast_kanagawa = forecast_kanagawa.drop('weather', axis = 1)\n",
    "forecast_kanagawa = forecast_kanagawa.drop('weather_detail', axis = 1)\n",
    "forecast_kanagawa = forecast_kanagawa.drop('wind', axis = 1)\n",
    "\n",
    "forecast_kanagawa = forecast_kanagawa.drop('wv_00-03', axis = 1)\n",
    "forecast_kanagawa = forecast_kanagawa.drop('wv_03-06', axis = 1)\n",
    "forecast_kanagawa = forecast_kanagawa.drop('wv_06-09', axis = 1)\n",
    "forecast_kanagawa = forecast_kanagawa.drop('wv_09-12', axis = 1)\n",
    "forecast_kanagawa = forecast_kanagawa.drop('wv_12-15', axis = 1)\n",
    "forecast_kanagawa = forecast_kanagawa.drop('wv_15-18', axis = 1)\n",
    "forecast_kanagawa = forecast_kanagawa.drop('wv_18-21', axis = 1)\n",
    "forecast_kanagawa = forecast_kanagawa.drop('wv_21-24', axis = 1)\n",
    "ka_tp = forecast_kanagawa.loc[:, forecast_kanagawa.columns.str.startswith(\"tp_\")]\n",
    "\n",
    "from scipy import signal, interpolate\n",
    "ka_tp = ka_tp.values.flatten()\n",
    "t = np.linspace(0, len(ka_tp), len(ka_tp))\n",
    "tt = np.linspace(0, len(ka_tp), (len(ka_tp)) * 6)\n",
    "\n",
    "# 線形補間\n",
    "f1 = interpolate.Akima1DInterpolator(t,ka_tp)\n",
    "ka_tp_forecast = f1(tt)\n",
    "ka_tp_forecast[:10]\n",
    "plt.figure(figsize=(12, 9))\n",
    "#plt.plot(t[50:100], ka_tp[50:100], \"o\")\n",
    "plt.plot(ka_tp_forecast[50:100], \"r\", label=\"linear\")\n",
    "#plt.plot(train_1month_SOLA01[50:100])\n",
    "plt.show()"
   ]
  },
  {
   "cell_type": "code",
   "execution_count": 11,
   "metadata": {},
   "outputs": [
    {
     "name": "stdout",
     "output_type": "stream",
     "text": [
      "92016\n",
      "92016\n"
     ]
    },
    {
     "data": {
      "text/html": [
       "<div>\n",
       "<style>\n",
       "    .dataframe thead tr:only-child th {\n",
       "        text-align: right;\n",
       "    }\n",
       "\n",
       "    .dataframe thead th {\n",
       "        text-align: left;\n",
       "    }\n",
       "\n",
       "    .dataframe tbody tr th {\n",
       "        vertical-align: top;\n",
       "    }\n",
       "</style>\n",
       "<table border=\"1\" class=\"dataframe\">\n",
       "  <thead>\n",
       "    <tr style=\"text-align: right;\">\n",
       "      <th></th>\n",
       "      <th>0</th>\n",
       "      <th>晴れ</th>\n",
       "      <th>雨</th>\n",
       "      <th>雪</th>\n",
       "    </tr>\n",
       "  </thead>\n",
       "  <tbody>\n",
       "    <tr>\n",
       "      <th>0</th>\n",
       "      <td>5.000000</td>\n",
       "      <td>0</td>\n",
       "      <td>0</td>\n",
       "      <td>0</td>\n",
       "    </tr>\n",
       "    <tr>\n",
       "      <th>1</th>\n",
       "      <td>4.767759</td>\n",
       "      <td>0</td>\n",
       "      <td>0</td>\n",
       "      <td>0</td>\n",
       "    </tr>\n",
       "    <tr>\n",
       "      <th>2</th>\n",
       "      <td>4.567921</td>\n",
       "      <td>0</td>\n",
       "      <td>0</td>\n",
       "      <td>0</td>\n",
       "    </tr>\n",
       "    <tr>\n",
       "      <th>3</th>\n",
       "      <td>4.395859</td>\n",
       "      <td>0</td>\n",
       "      <td>0</td>\n",
       "      <td>0</td>\n",
       "    </tr>\n",
       "    <tr>\n",
       "      <th>4</th>\n",
       "      <td>4.246944</td>\n",
       "      <td>0</td>\n",
       "      <td>0</td>\n",
       "      <td>0</td>\n",
       "    </tr>\n",
       "  </tbody>\n",
       "</table>\n",
       "</div>"
      ],
      "text/plain": [
       "          0  晴れ  雨  雪\n",
       "0  5.000000   0  0  0\n",
       "1  4.767759   0  0  0\n",
       "2  4.567921   0  0  0\n",
       "3  4.395859   0  0  0\n",
       "4  4.246944   0  0  0"
      ]
     },
     "execution_count": 11,
     "metadata": {},
     "output_type": "execute_result"
    }
   ],
   "source": [
    "ka_we = forecast_kanagawa.loc[:, forecast_kanagawa.columns.str.startswith(\"we_\")]\n",
    "ka_we = ka_we.values.flatten()\n",
    "ka_weather = np.repeat(ka_we, 6)\n",
    "ya_X = pd.get_dummies(ka_weather, drop_first = True)\n",
    "ka_tp = pd.DataFrame(ka_tp_forecast)\n",
    "print(len(ya_X.index))\n",
    "print(len(ka_tp.index))\n",
    "ya_train_data = pd.concat([ka_tp, ya_X], axis=1)\n",
    "ya_train_data.head()"
   ]
  },
  {
   "cell_type": "code",
   "execution_count": 12,
   "metadata": {},
   "outputs": [
    {
     "data": {
      "text/html": [
       "<div>\n",
       "<style>\n",
       "    .dataframe thead tr:only-child th {\n",
       "        text-align: right;\n",
       "    }\n",
       "\n",
       "    .dataframe thead th {\n",
       "        text-align: left;\n",
       "    }\n",
       "\n",
       "    .dataframe tbody tr th {\n",
       "        vertical-align: top;\n",
       "    }\n",
       "</style>\n",
       "<table border=\"1\" class=\"dataframe\">\n",
       "  <thead>\n",
       "    <tr style=\"text-align: right;\">\n",
       "      <th></th>\n",
       "      <th>気温</th>\n",
       "      <th>晴れ</th>\n",
       "      <th>雨</th>\n",
       "      <th>雪</th>\n",
       "    </tr>\n",
       "  </thead>\n",
       "  <tbody>\n",
       "    <tr>\n",
       "      <th>0</th>\n",
       "      <td>5.000000</td>\n",
       "      <td>0</td>\n",
       "      <td>0</td>\n",
       "      <td>0</td>\n",
       "    </tr>\n",
       "    <tr>\n",
       "      <th>1</th>\n",
       "      <td>4.767759</td>\n",
       "      <td>0</td>\n",
       "      <td>0</td>\n",
       "      <td>0</td>\n",
       "    </tr>\n",
       "    <tr>\n",
       "      <th>2</th>\n",
       "      <td>4.567921</td>\n",
       "      <td>0</td>\n",
       "      <td>0</td>\n",
       "      <td>0</td>\n",
       "    </tr>\n",
       "    <tr>\n",
       "      <th>3</th>\n",
       "      <td>4.395859</td>\n",
       "      <td>0</td>\n",
       "      <td>0</td>\n",
       "      <td>0</td>\n",
       "    </tr>\n",
       "    <tr>\n",
       "      <th>4</th>\n",
       "      <td>4.246944</td>\n",
       "      <td>0</td>\n",
       "      <td>0</td>\n",
       "      <td>0</td>\n",
       "    </tr>\n",
       "  </tbody>\n",
       "</table>\n",
       "</div>"
      ],
      "text/plain": [
       "         気温  晴れ  雨  雪\n",
       "0  5.000000   0  0  0\n",
       "1  4.767759   0  0  0\n",
       "2  4.567921   0  0  0\n",
       "3  4.395859   0  0  0\n",
       "4  4.246944   0  0  0"
      ]
     },
     "execution_count": 12,
     "metadata": {},
     "output_type": "execute_result"
    }
   ],
   "source": [
    "ya_train_data = ya_train_data.rename(columns = {0:'気温'})\n",
    "ya_train_data.head()"
   ]
  },
  {
   "cell_type": "code",
   "execution_count": 13,
   "metadata": {},
   "outputs": [
    {
     "data": {
      "text/html": [
       "<div>\n",
       "<style>\n",
       "    .dataframe thead tr:only-child th {\n",
       "        text-align: right;\n",
       "    }\n",
       "\n",
       "    .dataframe thead th {\n",
       "        text-align: left;\n",
       "    }\n",
       "\n",
       "    .dataframe tbody tr th {\n",
       "        vertical-align: top;\n",
       "    }\n",
       "</style>\n",
       "<table border=\"1\" class=\"dataframe\">\n",
       "  <thead>\n",
       "    <tr style=\"text-align: right;\">\n",
       "      <th></th>\n",
       "      <th>気温</th>\n",
       "      <th>晴れ</th>\n",
       "      <th>雨</th>\n",
       "      <th>雪</th>\n",
       "    </tr>\n",
       "  </thead>\n",
       "  <tbody>\n",
       "    <tr>\n",
       "      <th>2012-01-01 00:00:00</th>\n",
       "      <td>5.000000</td>\n",
       "      <td>0</td>\n",
       "      <td>0</td>\n",
       "      <td>0</td>\n",
       "    </tr>\n",
       "    <tr>\n",
       "      <th>2012-01-01 00:30:00</th>\n",
       "      <td>4.767759</td>\n",
       "      <td>0</td>\n",
       "      <td>0</td>\n",
       "      <td>0</td>\n",
       "    </tr>\n",
       "    <tr>\n",
       "      <th>2012-01-01 01:00:00</th>\n",
       "      <td>4.567921</td>\n",
       "      <td>0</td>\n",
       "      <td>0</td>\n",
       "      <td>0</td>\n",
       "    </tr>\n",
       "    <tr>\n",
       "      <th>2012-01-01 01:30:00</th>\n",
       "      <td>4.395859</td>\n",
       "      <td>0</td>\n",
       "      <td>0</td>\n",
       "      <td>0</td>\n",
       "    </tr>\n",
       "    <tr>\n",
       "      <th>2012-01-01 02:00:00</th>\n",
       "      <td>4.246944</td>\n",
       "      <td>0</td>\n",
       "      <td>0</td>\n",
       "      <td>0</td>\n",
       "    </tr>\n",
       "  </tbody>\n",
       "</table>\n",
       "</div>"
      ],
      "text/plain": [
       "                           気温  晴れ  雨  雪\n",
       "2012-01-01 00:00:00  5.000000   0  0  0\n",
       "2012-01-01 00:30:00  4.767759   0  0  0\n",
       "2012-01-01 01:00:00  4.567921   0  0  0\n",
       "2012-01-01 01:30:00  4.395859   0  0  0\n",
       "2012-01-01 02:00:00  4.246944   0  0  0"
      ]
     },
     "execution_count": 13,
     "metadata": {},
     "output_type": "execute_result"
    }
   ],
   "source": [
    "train_rng_2 = pd.date_range(\"201201010000\", \"201703312330\", freq=\"30T\") # 学習期間：30分間隔\n",
    "ya_train_data.index = train_rng_2\n",
    "ya_train_data.head()"
   ]
  },
  {
   "cell_type": "code",
   "execution_count": 8,
   "metadata": {},
   "outputs": [],
   "source": [
    "#ka_train_data = pd.concat([ya_train_data, yokohama_amd['sl']], axis=1)\n",
    "train_rng = pd.date_range(\"201201010000\", \"201703312350\", freq=\"10T\") # 学習期間：30分間隔\n",
    "yokohama_amd.index = train_rng"
   ]
  },
  {
   "cell_type": "code",
   "execution_count": 9,
   "metadata": {},
   "outputs": [],
   "source": [
    "ya_t = yokohama_amd.groupby(pd.Grouper(freq=\"30T\")).sum()"
   ]
  },
  {
   "cell_type": "code",
   "execution_count": 10,
   "metadata": {},
   "outputs": [
    {
     "ename": "NameError",
     "evalue": "name 'ya_train_data' is not defined",
     "output_type": "error",
     "traceback": [
      "\u001b[0;31m---------------------------------------------------------------------------\u001b[0m",
      "\u001b[0;31mNameError\u001b[0m                                 Traceback (most recent call last)",
      "\u001b[0;32m<ipython-input-10-6e89971f60db>\u001b[0m in \u001b[0;36m<module>\u001b[0;34m()\u001b[0m\n\u001b[1;32m      1\u001b[0m \u001b[0mya_t\u001b[0m \u001b[0;34m=\u001b[0m \u001b[0myokohama_amd\u001b[0m\u001b[0;34m.\u001b[0m\u001b[0mgroupby\u001b[0m\u001b[0;34m(\u001b[0m\u001b[0mpd\u001b[0m\u001b[0;34m.\u001b[0m\u001b[0mGrouper\u001b[0m\u001b[0;34m(\u001b[0m\u001b[0mfreq\u001b[0m\u001b[0;34m=\u001b[0m\u001b[0;34m\"30T\"\u001b[0m\u001b[0;34m)\u001b[0m\u001b[0;34m)\u001b[0m\u001b[0;34m.\u001b[0m\u001b[0msum\u001b[0m\u001b[0;34m(\u001b[0m\u001b[0;34m)\u001b[0m\u001b[0;34m\u001b[0m\u001b[0m\n\u001b[0;32m----> 2\u001b[0;31m \u001b[0mka_train_data\u001b[0m \u001b[0;34m=\u001b[0m \u001b[0mpd\u001b[0m\u001b[0;34m.\u001b[0m\u001b[0mconcat\u001b[0m\u001b[0;34m(\u001b[0m\u001b[0;34m[\u001b[0m\u001b[0mya_train_data\u001b[0m\u001b[0;34m[\u001b[0m\u001b[0;34m:\u001b[0m\u001b[0;34m'2015-12-31 11:30:00'\u001b[0m\u001b[0;34m]\u001b[0m                           \u001b[0;34m,\u001b[0m \u001b[0mya_t\u001b[0m\u001b[0;34m[\u001b[0m\u001b[0;34m'sl'\u001b[0m\u001b[0;34m]\u001b[0m\u001b[0;34m]\u001b[0m\u001b[0;34m,\u001b[0m \u001b[0maxis\u001b[0m\u001b[0;34m=\u001b[0m\u001b[0;36m1\u001b[0m\u001b[0;34m)\u001b[0m\u001b[0;34m\u001b[0m\u001b[0m\n\u001b[0m",
      "\u001b[0;31mNameError\u001b[0m: name 'ya_train_data' is not defined"
     ]
    }
   ],
   "source": [
    "ya_t = yokohama_amd.groupby(pd.Grouper(freq=\"30T\")).sum()\n",
    "ka_train_data = pd.concat([ya_train_data[:'2015-12-31 11:30:00']\\\n",
    "                           , ya_t['sl']], axis=1)"
   ]
  },
  {
   "cell_type": "code",
   "execution_count": 11,
   "metadata": {},
   "outputs": [],
   "source": [
    "train_ka_sl = ya_t['sl']"
   ]
  },
  {
   "cell_type": "code",
   "execution_count": 12,
   "metadata": {},
   "outputs": [],
   "source": [
    "kanagawa_sl = train_ka_sl[:'2014-12-31 23:30:00']"
   ]
  },
  {
   "cell_type": "code",
   "execution_count": 16,
   "metadata": {},
   "outputs": [],
   "source": [
    "train_ka_sl = ya_t['sl']['2012-01']\n",
    "train_ka_sl  = train_ka_sl.as_matrix()\n",
    "data = np.reshape(train_ka_sl, (31, 48))"
   ]
  },
  {
   "cell_type": "code",
   "execution_count": 17,
   "metadata": {
    "scrolled": true
   },
   "outputs": [
    {
     "data": {
      "image/png": "[encoded data removed]",
      "text/plain": [
       "<matplotlib.figure.Figure at 0x7f5b66829ef0>"
      ]
     },
     "metadata": {},
     "output_type": "display_data"
    }
   ],
   "source": [
    "import matplotlib.cm as cm\n",
    "import matplotlib.pyplot as plt\n",
    "\n",
    "for i in range(0,31):\n",
    "    plt.plot(data[i], 'o',color=cm.hsv(i/31))\n",
    "plt.plot(np.mean(data, axis=0))\n",
    "plt.show()"
   ]
  },
  {
   "cell_type": "code",
   "execution_count": 18,
   "metadata": {},
   "outputs": [],
   "source": [
    "date_time = []"
   ]
  },
  {
   "cell_type": "code",
   "execution_count": 65,
   "metadata": {},
   "outputs": [],
   "source": [
    "hours = [x.hour for x in train_rng_2]\n",
    "months = [x.month for x in train_rng_2]\n",
    "ka_sl = ya_t['sl']['2012-01']\n",
    "ka_data = []\n",
    "for i in range(0, len(ka_sl)):\n",
    "    if (hours[i] >= 7 and months[i] == 1) and (hours[i] <= 17 and month9942.191s[i] == 1): \n",
    "        date_time.append(train_rng_2[i])\n",
    "        ka_data.append(ka_sl[i])"
   ]
  },
  {
   "cell_type": "code",
   "execution_count": 61,
   "metadata": {
    "scrolled": false
   },
   "outputs": [
    {
     "name": "stderr",
     "output_type": "stream",
     "text": [
      "/home/kitawaki/anaconda3/envs/tensorflow/lib/python3.5/site-packages/statsmodels/base/model.py:496: ConvergenceWarning: Maximum Likelihood optimization failed to converge. Check mle_retvals\n",
      "  \"Check mle_retvals\", ConvergenceWarning)\n"
     ]
    },
    {
     "name": "stdout",
     "output_type": "stream",
     "text": [
      "{'aic':               0             1             2\n",
      "0           NaN  10985.176912  10678.811622\n",
      "1  10271.752628  10267.486495  10268.853666\n",
      "2  10267.941257  10268.951388  10236.955944\n",
      "3  10268.822019  10235.567634  10260.007630\n",
      "4  10270.508160  10271.127302  10238.151147, 'aic_min_order': (3, 1)}\n"
     ]
    }
   ],
   "source": [
    "import statsmodels.api as sm\n",
    "res = sm.tsa.arma_order_select_ic(ka_data, ic='aic', trend='nc')\n",
    "print(res)"
   ]
  },
  {
   "cell_type": "code",
   "execution_count": 59,
   "metadata": {},
   "outputs": [
    {
     "name": "stderr",
     "output_type": "stream",
     "text": [
      "/home/kitawaki/anaconda3/envs/tensorflow/lib/python3.5/site-packages/scipy/stats/morestats.py:901: RuntimeWarning: divide by zero encountered in log\n",
      "  llf -= N / 2.0 * np.log(np.sum((y - y_mean)**2. / N, axis=0))\n",
      "/home/kitawaki/anaconda3/envs/tensorflow/lib/python3.5/site-packages/scipy/optimize/optimize.py:2189: RuntimeWarning: invalid value encountered in double_scalars\n",
      "  w = xb - ((xb - xc) * tmp2 - (xb - xa) * tmp1) / denom\n",
      "/home/kitawaki/anaconda3/envs/tensorflow/lib/python3.5/site-packages/scipy/optimize/optimize.py:1849: RuntimeWarning: invalid value encountered in double_scalars\n",
      "  tmp1 = (x - w) * (fx - fv)\n",
      "/home/kitawaki/anaconda3/envs/tensorflow/lib/python3.5/site-packages/scipy/optimize/optimize.py:1850: RuntimeWarning: invalid value encountered in double_scalars\n",
      "  tmp2 = (x - v) * (fx - fw)\n"
     ]
    },
    {
     "data": {
      "text/plain": [
       "(array([  7.38236245e+30,   7.38236245e+30,   7.38236245e+30,\n",
       "          7.38236245e+30,   7.38236245e+30,   7.38236245e+30,\n",
       "          7.38236245e+30]), 9.786842082938978)"
      ]
     },
     "execution_count": 59,
     "metadata": {},
     "output_type": "execute_result"
    }
   ],
   "source": [
    "stats.boxcox(kanagawa_sl[18:25])"
   ]
  },
  {
   "cell_type": "code",
   "execution_count": 60,
   "metadata": {},
   "outputs": [
    {
     "data": {
      "text/plain": [
       "2012-01-01 00:00:00    0.000000\n",
       "2012-01-01 00:30:00    0.000000\n",
       "2012-01-01 01:00:00    0.000000\n",
       "2012-01-01 01:30:00    0.000000\n",
       "2012-01-01 02:00:00    0.000000\n",
       "2012-01-01 02:30:00    0.000000\n",
       "2012-01-01 03:00:00    0.000000\n",
       "2012-01-01 03:30:00    0.000000\n",
       "2012-01-01 04:00:00    0.000000\n",
       "2012-01-01 04:30:00    0.000000\n",
       "2012-01-01 05:00:00    0.000000\n",
       "2012-01-01 05:30:00    0.000000\n",
       "2012-01-01 06:00:00    0.000000\n",
       "2012-01-01 06:30:00    0.000000\n",
       "2012-01-01 07:00:00    0.000000\n",
       "2012-01-01 07:30:00    0.466667\n",
       "2012-01-01 08:00:00    0.811111\n",
       "2012-01-01 08:30:00    0.650000\n",
       "2012-01-01 09:00:00    1.000000\n",
       "2012-01-01 09:30:00    1.000000\n",
       "2012-01-01 10:00:00    1.000000\n",
       "2012-01-01 10:30:00    1.000000\n",
       "2012-01-01 11:00:00    1.000000\n",
       "2012-01-01 11:30:00    1.000000\n",
       "2012-01-01 12:00:00    1.000000\n",
       "2012-01-01 12:30:00    0.783333\n",
       "2012-01-01 13:00:00    0.966667\n",
       "2012-01-01 13:30:00    0.766667\n",
       "2012-01-01 14:00:00    0.966667\n",
       "2012-01-01 14:30:00    0.605556\n",
       "                         ...   \n",
       "2014-12-31 09:00:00    1.000000\n",
       "2014-12-31 09:30:00    1.000000\n",
       "2014-12-31 10:00:00    1.000000\n",
       "2014-12-31 10:30:00    1.000000\n",
       "2014-12-31 11:00:00    1.000000\n",
       "2014-12-31 11:30:00    1.000000\n",
       "2014-12-31 12:00:00    1.000000\n",
       "2014-12-31 12:30:00    1.000000\n",
       "2014-12-31 13:00:00    1.000000\n",
       "2014-12-31 13:30:00    1.000000\n",
       "2014-12-31 14:00:00    1.000000\n",
       "2014-12-31 14:30:00    1.000000\n",
       "2014-12-31 15:00:00    1.000000\n",
       "2014-12-31 15:30:00    1.000000\n",
       "2014-12-31 16:00:00    0.494444\n",
       "2014-12-31 16:30:00    0.000000\n",
       "2014-12-31 17:00:00    0.000000\n",
       "2014-12-31 17:30:00    0.000000\n",
       "2014-12-31 18:00:00    0.000000\n",
       "2014-12-31 18:30:00    0.000000\n",
       "2014-12-31 19:00:00    0.000000\n",
       "2014-12-31 19:30:00    0.000000\n",
       "2014-12-31 20:00:00    0.000000\n",
       "2014-12-31 20:30:00    0.000000\n",
       "2014-12-31 21:00:00    0.000000\n",
       "2014-12-31 21:30:00    0.000000\n",
       "2014-12-31 22:00:00    0.000000\n",
       "2014-12-31 22:30:00    0.000000\n",
       "2014-12-31 23:00:00    0.000000\n",
       "2014-12-31 23:30:00    0.000000\n",
       "Freq: 30T, Name: sl, Length: 52608, dtype: float64"
      ]
     },
     "execution_count": 60,
     "metadata": {},
     "output_type": "execute_result"
    }
   ],
   "source": [
    "kanagawa_sl_nor = (kanagawa_sl - kanagawa_sl.min()) / (kanagawa_sl.max() - kanagawa_sl.min())\n",
    "kanagawa_sl_nor"
   ]
  },
  {
   "cell_type": "code",
   "execution_count": 12,
   "metadata": {},
   "outputs": [
    {
     "data": {
      "text/plain": [
       "192"
      ]
     },
     "execution_count": 12,
     "metadata": {},
     "output_type": "execute_result"
    }
   ],
   "source": [
    "# 総当たりで、AICが最小となるSARIMAの次数を探す\n",
    "max_p = 3\n",
    "max_q = 3\n",
    "max_d = 1\n",
    "max_sp = 1\n",
    "max_sq = 1\n",
    "max_sd = 1\n",
    "\n",
    "pattern = max_p*(max_q + 1)*(max_d + 1)*(max_sp + 1)*(max_sq + 1)*(max_sd + 1)\n",
    "\n",
    "modelSelection = pd.DataFrame(index=range(pattern), columns=[\"model\", \"aic\"])\n",
    "pattern"
   ]
  },
  {
   "cell_type": "code",
   "execution_count": null,
   "metadata": {},
   "outputs": [
    {
     "name": "stdout",
     "output_type": "stream",
     "text": [
      "749663.87957\n",
      "749505.859077\n",
      "785368.895852\n"
     ]
    }
   ],
   "source": [
    "import statsmodels.api as sm\n",
    "# 自動SARIMA選択\n",
    "num = 0\n",
    "\n",
    "for p in range(1, max_p + 1):\n",
    "    for d in range(0, max_d + 1):\n",
    "        for q in range(0, max_q + 1):\n",
    "            for sp in range(0, max_sp + 1):\n",
    "                for sd in range(0, max_sd + 1):\n",
    "                    for sq in range(0, max_sq + 1):\n",
    "                        sarima = sm.tsa.SARIMAX(\n",
    "                            kanagawa_sl, order=(p,d,q), \n",
    "                            seasonal_order=(sp,sd,sq,12), \n",
    "                            enforce_stationarity = False, \n",
    "                            enforce_invertibility = False\n",
    "                        ).fit()\n",
    "                        modelSelection.ix[num][\"model\"] = \"order=(\" + str(p) + \",\"+ str(d) + \",\"+ str(q) + \"), season=(\"+ str(sp) + \",\"+ str(sd) + \",\" + str(sq) + \")\"\n",
    "                        modelSelection.ix[num][\"aic\"] = sarima.aic\n",
    "                        print(modelSelection.ix[num][\"aic\"])\n",
    "                        num = num + 1"
   ]
  },
  {
   "cell_type": "code",
   "execution_count": 76,
   "metadata": {
    "scrolled": true
   },
   "outputs": [
    {
     "data": {
      "text/html": [
       "<div>\n",
       "<style>\n",
       "    .dataframe thead tr:only-child th {\n",
       "        text-align: right;\n",
       "    }\n",
       "\n",
       "    .dataframe thead th {\n",
       "        text-align: left;\n",
       "    }\n",
       "\n",
       "    .dataframe tbody tr th {\n",
       "        vertical-align: top;\n",
       "    }\n",
       "</style>\n",
       "<table border=\"1\" class=\"dataframe\">\n",
       "  <thead>\n",
       "    <tr style=\"text-align: right;\">\n",
       "      <th></th>\n",
       "      <th>model</th>\n",
       "      <th>aic</th>\n",
       "    </tr>\n",
       "  </thead>\n",
       "  <tbody>\n",
       "    <tr>\n",
       "      <th>0</th>\n",
       "      <td>order=(1,0,0), season=(0,0,0)</td>\n",
       "      <td>9959.2</td>\n",
       "    </tr>\n",
       "    <tr>\n",
       "      <th>1</th>\n",
       "      <td>order=(1,0,0), season=(0,0,1)</td>\n",
       "      <td>9781.33</td>\n",
       "    </tr>\n",
       "    <tr>\n",
       "      <th>2</th>\n",
       "      <td>order=(1,0,0), season=(0,0,2)</td>\n",
       "      <td>9606.44</td>\n",
       "    </tr>\n",
       "    <tr>\n",
       "      <th>3</th>\n",
       "      <td>order=(1,0,0), season=(0,0,3)</td>\n",
       "      <td>9401.27</td>\n",
       "    </tr>\n",
       "    <tr>\n",
       "      <th>4</th>\n",
       "      <td>order=(1,0,0), season=(0,1,0)</td>\n",
       "      <td>10228</td>\n",
       "    </tr>\n",
       "    <tr>\n",
       "      <th>5</th>\n",
       "      <td>order=(1,0,0), season=(0,1,1)</td>\n",
       "      <td>9612.41</td>\n",
       "    </tr>\n",
       "    <tr>\n",
       "      <th>6</th>\n",
       "      <td>order=(1,0,0), season=(0,1,2)</td>\n",
       "      <td>9421.73</td>\n",
       "    </tr>\n",
       "    <tr>\n",
       "      <th>7</th>\n",
       "      <td>order=(1,0,0), season=(0,1,3)</td>\n",
       "      <td>9248.88</td>\n",
       "    </tr>\n",
       "    <tr>\n",
       "      <th>8</th>\n",
       "      <td>order=(1,0,0), season=(0,2,0)</td>\n",
       "      <td>10753.9</td>\n",
       "    </tr>\n",
       "    <tr>\n",
       "      <th>9</th>\n",
       "      <td>order=(1,0,0), season=(0,2,1)</td>\n",
       "      <td>9886.44</td>\n",
       "    </tr>\n",
       "    <tr>\n",
       "      <th>10</th>\n",
       "      <td>order=(1,0,0), season=(0,2,2)</td>\n",
       "      <td>9326.72</td>\n",
       "    </tr>\n",
       "    <tr>\n",
       "      <th>11</th>\n",
       "      <td>order=(1,0,0), season=(0,2,3)</td>\n",
       "      <td>9147.27</td>\n",
       "    </tr>\n",
       "    <tr>\n",
       "      <th>12</th>\n",
       "      <td>order=(1,0,0), season=(0,3,0)</td>\n",
       "      <td>11195.7</td>\n",
       "    </tr>\n",
       "    <tr>\n",
       "      <th>13</th>\n",
       "      <td>order=(1,0,0), season=(0,3,1)</td>\n",
       "      <td>10249.8</td>\n",
       "    </tr>\n",
       "    <tr>\n",
       "      <th>14</th>\n",
       "      <td>order=(1,0,0), season=(0,3,2)</td>\n",
       "      <td>9602.41</td>\n",
       "    </tr>\n",
       "    <tr>\n",
       "      <th>15</th>\n",
       "      <td>order=(1,0,0), season=(0,3,3)</td>\n",
       "      <td>9396.84</td>\n",
       "    </tr>\n",
       "    <tr>\n",
       "      <th>16</th>\n",
       "      <td>order=(1,0,0), season=(1,0,0)</td>\n",
       "      <td>9781.1</td>\n",
       "    </tr>\n",
       "    <tr>\n",
       "      <th>17</th>\n",
       "      <td>order=(1,0,0), season=(1,0,1)</td>\n",
       "      <td>9782.17</td>\n",
       "    </tr>\n",
       "    <tr>\n",
       "      <th>18</th>\n",
       "      <td>order=(1,0,0), season=(1,0,2)</td>\n",
       "      <td>9605.75</td>\n",
       "    </tr>\n",
       "    <tr>\n",
       "      <th>19</th>\n",
       "      <td>order=(1,0,0), season=(1,0,3)</td>\n",
       "      <td>9403.25</td>\n",
       "    </tr>\n",
       "    <tr>\n",
       "      <th>20</th>\n",
       "      <td>order=(1,0,0), season=(1,1,0)</td>\n",
       "      <td>9815.5</td>\n",
       "    </tr>\n",
       "    <tr>\n",
       "      <th>21</th>\n",
       "      <td>order=(1,0,0), season=(1,1,1)</td>\n",
       "      <td>9612.34</td>\n",
       "    </tr>\n",
       "    <tr>\n",
       "      <th>22</th>\n",
       "      <td>order=(1,0,0), season=(1,1,2)</td>\n",
       "      <td>9412.88</td>\n",
       "    </tr>\n",
       "    <tr>\n",
       "      <th>23</th>\n",
       "      <td>order=(1,0,0), season=(1,1,3)</td>\n",
       "      <td>9250.49</td>\n",
       "    </tr>\n",
       "    <tr>\n",
       "      <th>24</th>\n",
       "      <td>order=(1,0,0), season=(1,2,0)</td>\n",
       "      <td>10110.3</td>\n",
       "    </tr>\n",
       "    <tr>\n",
       "      <th>25</th>\n",
       "      <td>order=(1,0,0), season=(1,2,1)</td>\n",
       "      <td>9678.67</td>\n",
       "    </tr>\n",
       "    <tr>\n",
       "      <th>26</th>\n",
       "      <td>order=(1,0,0), season=(1,2,2)</td>\n",
       "      <td>9327.69</td>\n",
       "    </tr>\n",
       "    <tr>\n",
       "      <th>27</th>\n",
       "      <td>order=(1,0,0), season=(1,2,3)</td>\n",
       "      <td>9139.33</td>\n",
       "    </tr>\n",
       "    <tr>\n",
       "      <th>28</th>\n",
       "      <td>order=(1,0,0), season=(1,3,0)</td>\n",
       "      <td>NaN</td>\n",
       "    </tr>\n",
       "    <tr>\n",
       "      <th>29</th>\n",
       "      <td>order=(1,0,0), season=(1,3,1)</td>\n",
       "      <td>9858.6</td>\n",
       "    </tr>\n",
       "    <tr>\n",
       "      <th>...</th>\n",
       "      <td>...</td>\n",
       "      <td>...</td>\n",
       "    </tr>\n",
       "    <tr>\n",
       "      <th>12258</th>\n",
       "      <td>NaN</td>\n",
       "      <td>NaN</td>\n",
       "    </tr>\n",
       "    <tr>\n",
       "      <th>12259</th>\n",
       "      <td>NaN</td>\n",
       "      <td>NaN</td>\n",
       "    </tr>\n",
       "    <tr>\n",
       "      <th>12260</th>\n",
       "      <td>NaN</td>\n",
       "      <td>NaN</td>\n",
       "    </tr>\n",
       "    <tr>\n",
       "      <th>12261</th>\n",
       "      <td>NaN</td>\n",
       "      <td>NaN</td>\n",
       "    </tr>\n",
       "    <tr>\n",
       "      <th>12262</th>\n",
       "      <td>NaN</td>\n",
       "      <td>NaN</td>\n",
       "    </tr>\n",
       "    <tr>\n",
       "      <th>12263</th>\n",
       "      <td>NaN</td>\n",
       "      <td>NaN</td>\n",
       "    </tr>\n",
       "    <tr>\n",
       "      <th>12264</th>\n",
       "      <td>NaN</td>\n",
       "      <td>NaN</td>\n",
       "    </tr>\n",
       "    <tr>\n",
       "      <th>12265</th>\n",
       "      <td>NaN</td>\n",
       "      <td>NaN</td>\n",
       "    </tr>\n",
       "    <tr>\n",
       "      <th>12266</th>\n",
       "      <td>NaN</td>\n",
       "      <td>NaN</td>\n",
       "    </tr>\n",
       "    <tr>\n",
       "      <th>12267</th>\n",
       "      <td>NaN</td>\n",
       "      <td>NaN</td>\n",
       "    </tr>\n",
       "    <tr>\n",
       "      <th>12268</th>\n",
       "      <td>NaN</td>\n",
       "      <td>NaN</td>\n",
       "    </tr>\n",
       "    <tr>\n",
       "      <th>12269</th>\n",
       "      <td>NaN</td>\n",
       "      <td>NaN</td>\n",
       "    </tr>\n",
       "    <tr>\n",
       "      <th>12270</th>\n",
       "      <td>NaN</td>\n",
       "      <td>NaN</td>\n",
       "    </tr>\n",
       "    <tr>\n",
       "      <th>12271</th>\n",
       "      <td>NaN</td>\n",
       "      <td>NaN</td>\n",
       "    </tr>\n",
       "    <tr>\n",
       "      <th>12272</th>\n",
       "      <td>NaN</td>\n",
       "      <td>NaN</td>\n",
       "    </tr>\n",
       "    <tr>\n",
       "      <th>12273</th>\n",
       "      <td>NaN</td>\n",
       "      <td>NaN</td>\n",
       "    </tr>\n",
       "    <tr>\n",
       "      <th>12274</th>\n",
       "      <td>NaN</td>\n",
       "      <td>NaN</td>\n",
       "    </tr>\n",
       "    <tr>\n",
       "      <th>12275</th>\n",
       "      <td>NaN</td>\n",
       "      <td>NaN</td>\n",
       "    </tr>\n",
       "    <tr>\n",
       "      <th>12276</th>\n",
       "      <td>NaN</td>\n",
       "      <td>NaN</td>\n",
       "    </tr>\n",
       "    <tr>\n",
       "      <th>12277</th>\n",
       "      <td>NaN</td>\n",
       "      <td>NaN</td>\n",
       "    </tr>\n",
       "    <tr>\n",
       "      <th>12278</th>\n",
       "      <td>NaN</td>\n",
       "      <td>NaN</td>\n",
       "    </tr>\n",
       "    <tr>\n",
       "      <th>12279</th>\n",
       "      <td>NaN</td>\n",
       "      <td>NaN</td>\n",
       "    </tr>\n",
       "    <tr>\n",
       "      <th>12280</th>\n",
       "      <td>NaN</td>\n",
       "      <td>NaN</td>\n",
       "    </tr>\n",
       "    <tr>\n",
       "      <th>12281</th>\n",
       "      <td>NaN</td>\n",
       "      <td>NaN</td>\n",
       "    </tr>\n",
       "    <tr>\n",
       "      <th>12282</th>\n",
       "      <td>NaN</td>\n",
       "      <td>NaN</td>\n",
       "    </tr>\n",
       "    <tr>\n",
       "      <th>12283</th>\n",
       "      <td>NaN</td>\n",
       "      <td>NaN</td>\n",
       "    </tr>\n",
       "    <tr>\n",
       "      <th>12284</th>\n",
       "      <td>NaN</td>\n",
       "      <td>NaN</td>\n",
       "    </tr>\n",
       "    <tr>\n",
       "      <th>12285</th>\n",
       "      <td>NaN</td>\n",
       "      <td>NaN</td>\n",
       "    </tr>\n",
       "    <tr>\n",
       "      <th>12286</th>\n",
       "      <td>NaN</td>\n",
       "      <td>NaN</td>\n",
       "    </tr>\n",
       "    <tr>\n",
       "      <th>12287</th>\n",
       "      <td>NaN</td>\n",
       "      <td>NaN</td>\n",
       "    </tr>\n",
       "  </tbody>\n",
       "</table>\n",
       "<p>12288 rows × 2 columns</p>\n",
       "</div>"
      ],
      "text/plain": [
       "                               model      aic\n",
       "0      order=(1,0,0), season=(0,0,0)   9959.2\n",
       "1      order=(1,0,0), season=(0,0,1)  9781.33\n",
       "2      order=(1,0,0), season=(0,0,2)  9606.44\n",
       "3      order=(1,0,0), season=(0,0,3)  9401.27\n",
       "4      order=(1,0,0), season=(0,1,0)    10228\n",
       "5      order=(1,0,0), season=(0,1,1)  9612.41\n",
       "6      order=(1,0,0), season=(0,1,2)  9421.73\n",
       "7      order=(1,0,0), season=(0,1,3)  9248.88\n",
       "8      order=(1,0,0), season=(0,2,0)  10753.9\n",
       "9      order=(1,0,0), season=(0,2,1)  9886.44\n",
       "10     order=(1,0,0), season=(0,2,2)  9326.72\n",
       "11     order=(1,0,0), season=(0,2,3)  9147.27\n",
       "12     order=(1,0,0), season=(0,3,0)  11195.7\n",
       "13     order=(1,0,0), season=(0,3,1)  10249.8\n",
       "14     order=(1,0,0), season=(0,3,2)  9602.41\n",
       "15     order=(1,0,0), season=(0,3,3)  9396.84\n",
       "16     order=(1,0,0), season=(1,0,0)   9781.1\n",
       "17     order=(1,0,0), season=(1,0,1)  9782.17\n",
       "18     order=(1,0,0), season=(1,0,2)  9605.75\n",
       "19     order=(1,0,0), season=(1,0,3)  9403.25\n",
       "20     order=(1,0,0), season=(1,1,0)   9815.5\n",
       "21     order=(1,0,0), season=(1,1,1)  9612.34\n",
       "22     order=(1,0,0), season=(1,1,2)  9412.88\n",
       "23     order=(1,0,0), season=(1,1,3)  9250.49\n",
       "24     order=(1,0,0), season=(1,2,0)  10110.3\n",
       "25     order=(1,0,0), season=(1,2,1)  9678.67\n",
       "26     order=(1,0,0), season=(1,2,2)  9327.69\n",
       "27     order=(1,0,0), season=(1,2,3)  9139.33\n",
       "28     order=(1,0,0), season=(1,3,0)      NaN\n",
       "29     order=(1,0,0), season=(1,3,1)   9858.6\n",
       "...                              ...      ...\n",
       "12258                            NaN      NaN\n",
       "12259                            NaN      NaN\n",
       "12260                            NaN      NaN\n",
       "12261                            NaN      NaN\n",
       "12262                            NaN      NaN\n",
       "12263                            NaN      NaN\n",
       "12264                            NaN      NaN\n",
       "12265                            NaN      NaN\n",
       "12266                            NaN      NaN\n",
       "12267                            NaN      NaN\n",
       "12268                            NaN      NaN\n",
       "12269                            NaN      NaN\n",
       "12270                            NaN      NaN\n",
       "12271                            NaN      NaN\n",
       "12272                            NaN      NaN\n",
       "12273                            NaN      NaN\n",
       "12274                            NaN      NaN\n",
       "12275                            NaN      NaN\n",
       "12276                            NaN      NaN\n",
       "12277                            NaN      NaN\n",
       "12278                            NaN      NaN\n",
       "12279                            NaN      NaN\n",
       "12280                            NaN      NaN\n",
       "12281                            NaN      NaN\n",
       "12282                            NaN      NaN\n",
       "12283                            NaN      NaN\n",
       "12284                            NaN      NaN\n",
       "12285                            NaN      NaN\n",
       "12286                            NaN      NaN\n",
       "12287                            NaN      NaN\n",
       "\n",
       "[12288 rows x 2 columns]"
      ]
     },
     "execution_count": 76,
     "metadata": {},
     "output_type": "execute_result"
    }
   ],
   "source": [
    "modelSelection"
   ]
  },
  {
   "cell_type": "code",
   "execution_count": 77,
   "metadata": {
    "scrolled": false
   },
   "outputs": [
    {
     "data": {
      "text/html": [
       "<div>\n",
       "<style>\n",
       "    .dataframe thead tr:only-child th {\n",
       "        text-align: right;\n",
       "    }\n",
       "\n",
       "    .dataframe thead th {\n",
       "        text-align: left;\n",
       "    }\n",
       "\n",
       "    .dataframe tbody tr th {\n",
       "        vertical-align: top;\n",
       "    }\n",
       "</style>\n",
       "<table border=\"1\" class=\"dataframe\">\n",
       "  <thead>\n",
       "    <tr style=\"text-align: right;\">\n",
       "      <th></th>\n",
       "      <th>model</th>\n",
       "      <th>aic</th>\n",
       "    </tr>\n",
       "  </thead>\n",
       "  <tbody>\n",
       "    <tr>\n",
       "      <th>203</th>\n",
       "      <td>order=(1,0,3), season=(0,2,3)</td>\n",
       "      <td>9103.4</td>\n",
       "    </tr>\n",
       "  </tbody>\n",
       "</table>\n",
       "</div>"
      ],
      "text/plain": [
       "                             model     aic\n",
       "203  order=(1,0,3), season=(0,2,3)  9103.4"
      ]
     },
     "execution_count": 77,
     "metadata": {},
     "output_type": "execute_result"
    }
   ],
   "source": [
    "# AIC最小モデル\n",
    "modelSelection[modelSelection.aic == min(modelSelection.aic)]"
   ]
  },
  {
   "cell_type": "code",
   "execution_count": 67,
   "metadata": {},
   "outputs": [
    {
     "ename": "MemoryError",
     "evalue": "",
     "output_type": "error",
     "traceback": [
      "\u001b[0;31m---------------------------------------------------------------------------\u001b[0m",
      "\u001b[0;31mMemoryError\u001b[0m                               Traceback (most recent call last)",
      "\u001b[0;32m<ipython-input-67-90fb4b831da0>\u001b[0m in \u001b[0;36m<module>\u001b[0;34m()\u001b[0m\n\u001b[1;32m      3\u001b[0m \u001b[0;32mimport\u001b[0m \u001b[0mstatsmodels\u001b[0m\u001b[0;34m.\u001b[0m\u001b[0mapi\u001b[0m \u001b[0;32mas\u001b[0m \u001b[0msm\u001b[0m\u001b[0;34m\u001b[0m\u001b[0m\n\u001b[1;32m      4\u001b[0m \u001b[0;34m\u001b[0m\u001b[0m\n\u001b[0;32m----> 5\u001b[0;31m \u001b[0mSARIMA_3_1_2_111\u001b[0m \u001b[0;34m=\u001b[0m \u001b[0msm\u001b[0m\u001b[0;34m.\u001b[0m\u001b[0mtsa\u001b[0m\u001b[0;34m.\u001b[0m\u001b[0mSARIMAX\u001b[0m\u001b[0;34m(\u001b[0m\u001b[0mkanagawa_sl_nor\u001b[0m\u001b[0;34m[\u001b[0m\u001b[0;34m:\u001b[0m\u001b[0mlen\u001b[0m\u001b[0;34m(\u001b[0m\u001b[0mkanagawa_sl_nor\u001b[0m\u001b[0;34m)\u001b[0m \u001b[0;34m-\u001b[0m \u001b[0;36m20\u001b[0m\u001b[0;34m]\u001b[0m\u001b[0;34m,\u001b[0m \u001b[0morder\u001b[0m\u001b[0;34m=\u001b[0m\u001b[0;34m(\u001b[0m\u001b[0;36m1\u001b[0m\u001b[0;34m,\u001b[0m\u001b[0;36m0\u001b[0m\u001b[0;34m,\u001b[0m\u001b[0;36m3\u001b[0m\u001b[0;34m)\u001b[0m\u001b[0;34m,\u001b[0m \u001b[0mseasonal_order\u001b[0m\u001b[0;34m=\u001b[0m\u001b[0;34m(\u001b[0m\u001b[0;36m1\u001b[0m\u001b[0;34m,\u001b[0m\u001b[0;36m1\u001b[0m\u001b[0;34m,\u001b[0m\u001b[0;36m1\u001b[0m\u001b[0;34m,\u001b[0m\u001b[0;36m12\u001b[0m\u001b[0;34m)\u001b[0m\u001b[0;34m,\u001b[0m \u001b[0menforce_stationarity\u001b[0m \u001b[0;34m=\u001b[0m \u001b[0;32mFalse\u001b[0m\u001b[0;34m,\u001b[0m \u001b[0menforce_invertibility\u001b[0m \u001b[0;34m=\u001b[0m \u001b[0;32mFalse\u001b[0m\u001b[0;34m)\u001b[0m\u001b[0;34m.\u001b[0m\u001b[0mfit\u001b[0m\u001b[0;34m(\u001b[0m\u001b[0;34m)\u001b[0m\u001b[0;34m\u001b[0m\u001b[0m\n\u001b[0m\u001b[1;32m      6\u001b[0m \u001b[0mprint\u001b[0m\u001b[0;34m(\u001b[0m\u001b[0mSARIMA_3_1_2_111\u001b[0m\u001b[0;34m.\u001b[0m\u001b[0msummary\u001b[0m\u001b[0;34m(\u001b[0m\u001b[0;34m)\u001b[0m\u001b[0;34m)\u001b[0m\u001b[0;34m\u001b[0m\u001b[0m\n",
      "\u001b[0;32m~/anaconda3/envs/tensorflow/lib/python3.5/site-packages/statsmodels/tsa/statespace/mlemodel.py\u001b[0m in \u001b[0;36mfit\u001b[0;34m(self, start_params, transformed, cov_type, cov_kwds, method, maxiter, full_output, disp, callback, return_params, optim_score, optim_complex_step, optim_hessian, **kwargs)\u001b[0m\n\u001b[1;32m    452\u001b[0m         \u001b[0;32melse\u001b[0m\u001b[0;34m:\u001b[0m\u001b[0;34m\u001b[0m\u001b[0m\n\u001b[1;32m    453\u001b[0m             res = self.smooth(mlefit.params, transformed=False,\n\u001b[0;32m--> 454\u001b[0;31m                               cov_type=cov_type, cov_kwds=cov_kwds)\n\u001b[0m\u001b[1;32m    455\u001b[0m \u001b[0;34m\u001b[0m\u001b[0m\n\u001b[1;32m    456\u001b[0m             \u001b[0mres\u001b[0m\u001b[0;34m.\u001b[0m\u001b[0mmlefit\u001b[0m \u001b[0;34m=\u001b[0m \u001b[0mmlefit\u001b[0m\u001b[0;34m\u001b[0m\u001b[0m\n",
      "\u001b[0;32m~/anaconda3/envs/tensorflow/lib/python3.5/site-packages/statsmodels/tsa/statespace/sarimax.py\u001b[0m in \u001b[0;36msmooth\u001b[0;34m(self, params, **kwargs)\u001b[0m\n\u001b[1;32m    866\u001b[0m         \u001b[0mkwargs\u001b[0m\u001b[0;34m.\u001b[0m\u001b[0msetdefault\u001b[0m\u001b[0;34m(\u001b[0m\u001b[0;34m'results_class'\u001b[0m\u001b[0;34m,\u001b[0m \u001b[0mSARIMAXResults\u001b[0m\u001b[0;34m)\u001b[0m\u001b[0;34m\u001b[0m\u001b[0m\n\u001b[1;32m    867\u001b[0m         \u001b[0mkwargs\u001b[0m\u001b[0;34m.\u001b[0m\u001b[0msetdefault\u001b[0m\u001b[0;34m(\u001b[0m\u001b[0;34m'results_wrapper_class'\u001b[0m\u001b[0;34m,\u001b[0m \u001b[0mSARIMAXResultsWrapper\u001b[0m\u001b[0;34m)\u001b[0m\u001b[0;34m\u001b[0m\u001b[0m\n\u001b[0;32m--> 868\u001b[0;31m         \u001b[0;32mreturn\u001b[0m \u001b[0msuper\u001b[0m\u001b[0;34m(\u001b[0m\u001b[0mSARIMAX\u001b[0m\u001b[0;34m,\u001b[0m \u001b[0mself\u001b[0m\u001b[0;34m)\u001b[0m\u001b[0;34m.\u001b[0m\u001b[0msmooth\u001b[0m\u001b[0;34m(\u001b[0m\u001b[0mparams\u001b[0m\u001b[0;34m,\u001b[0m \u001b[0;34m**\u001b[0m\u001b[0mkwargs\u001b[0m\u001b[0;34m)\u001b[0m\u001b[0;34m\u001b[0m\u001b[0m\n\u001b[0m\u001b[1;32m    869\u001b[0m \u001b[0;34m\u001b[0m\u001b[0m\n\u001b[1;32m    870\u001b[0m     \u001b[0;34m@\u001b[0m\u001b[0mstaticmethod\u001b[0m\u001b[0;34m\u001b[0m\u001b[0m\n",
      "\u001b[0;32m~/anaconda3/envs/tensorflow/lib/python3.5/site-packages/statsmodels/tsa/statespace/mlemodel.py\u001b[0m in \u001b[0;36msmooth\u001b[0;34m(self, params, transformed, complex_step, cov_type, cov_kwds, return_ssm, results_class, results_wrapper_class, **kwargs)\u001b[0m\n\u001b[1;32m    559\u001b[0m \u001b[0;34m\u001b[0m\u001b[0m\n\u001b[1;32m    560\u001b[0m         \u001b[0;31m# Get the state space output\u001b[0m\u001b[0;34m\u001b[0m\u001b[0;34m\u001b[0m\u001b[0m\n\u001b[0;32m--> 561\u001b[0;31m         \u001b[0mresult\u001b[0m \u001b[0;34m=\u001b[0m \u001b[0mself\u001b[0m\u001b[0;34m.\u001b[0m\u001b[0mssm\u001b[0m\u001b[0;34m.\u001b[0m\u001b[0msmooth\u001b[0m\u001b[0;34m(\u001b[0m\u001b[0mcomplex_step\u001b[0m\u001b[0;34m=\u001b[0m\u001b[0mcomplex_step\u001b[0m\u001b[0;34m,\u001b[0m \u001b[0;34m**\u001b[0m\u001b[0mkwargs\u001b[0m\u001b[0;34m)\u001b[0m\u001b[0;34m\u001b[0m\u001b[0m\n\u001b[0m\u001b[1;32m    562\u001b[0m \u001b[0;34m\u001b[0m\u001b[0m\n\u001b[1;32m    563\u001b[0m         \u001b[0;31m# Wrap in a results object\u001b[0m\u001b[0;34m\u001b[0m\u001b[0;34m\u001b[0m\u001b[0m\n",
      "\u001b[0;32m~/anaconda3/envs/tensorflow/lib/python3.5/site-packages/statsmodels/tsa/statespace/kalman_smoother.py\u001b[0m in \u001b[0;36msmooth\u001b[0;34m(self, smoother_output, results, run_filter, prefix, complex_step, **kwargs)\u001b[0m\n\u001b[1;32m    481\u001b[0m             \u001b[0mresults\u001b[0m\u001b[0;34m.\u001b[0m\u001b[0mupdate_representation\u001b[0m\u001b[0;34m(\u001b[0m\u001b[0mself\u001b[0m\u001b[0;34m)\u001b[0m\u001b[0;34m\u001b[0m\u001b[0m\n\u001b[1;32m    482\u001b[0m         \u001b[0;32mif\u001b[0m \u001b[0mrun_filter\u001b[0m\u001b[0;34m:\u001b[0m\u001b[0;34m\u001b[0m\u001b[0m\n\u001b[0;32m--> 483\u001b[0;31m             \u001b[0mresults\u001b[0m\u001b[0;34m.\u001b[0m\u001b[0mupdate_filter\u001b[0m\u001b[0;34m(\u001b[0m\u001b[0mkfilter\u001b[0m\u001b[0;34m)\u001b[0m\u001b[0;34m\u001b[0m\u001b[0m\n\u001b[0m\u001b[1;32m    484\u001b[0m \u001b[0;34m\u001b[0m\u001b[0m\n\u001b[1;32m    485\u001b[0m         \u001b[0;31m# Run the smoother and update the output\u001b[0m\u001b[0;34m\u001b[0m\u001b[0;34m\u001b[0m\u001b[0m\n",
      "\u001b[0;32m~/anaconda3/envs/tensorflow/lib/python3.5/site-packages/statsmodels/tsa/statespace/kalman_filter.py\u001b[0m in \u001b[0;36mupdate_filter\u001b[0;34m(self, kalman_filter)\u001b[0m\n\u001b[1;32m   1218\u001b[0m         \u001b[0mself\u001b[0m\u001b[0;34m.\u001b[0m\u001b[0mfiltered_state\u001b[0m \u001b[0;34m=\u001b[0m \u001b[0mnp\u001b[0m\u001b[0;34m.\u001b[0m\u001b[0marray\u001b[0m\u001b[0;34m(\u001b[0m\u001b[0mkalman_filter\u001b[0m\u001b[0;34m.\u001b[0m\u001b[0mfiltered_state\u001b[0m\u001b[0;34m,\u001b[0m \u001b[0mcopy\u001b[0m\u001b[0;34m=\u001b[0m\u001b[0;32mTrue\u001b[0m\u001b[0;34m)\u001b[0m\u001b[0;34m\u001b[0m\u001b[0m\n\u001b[1;32m   1219\u001b[0m         self.filtered_state_cov = np.array(\n\u001b[0;32m-> 1220\u001b[0;31m             \u001b[0mkalman_filter\u001b[0m\u001b[0;34m.\u001b[0m\u001b[0mfiltered_state_cov\u001b[0m\u001b[0;34m,\u001b[0m \u001b[0mcopy\u001b[0m\u001b[0;34m=\u001b[0m\u001b[0;32mTrue\u001b[0m\u001b[0;34m\u001b[0m\u001b[0m\n\u001b[0m\u001b[1;32m   1221\u001b[0m         )\n\u001b[1;32m   1222\u001b[0m         self.predicted_state = np.array(\n",
      "\u001b[0;31mMemoryError\u001b[0m: "
     ]
    }
   ],
   "source": [
    "from statsmodels.tsa import arima_model\n",
    "from statsmodels.tsa.arima_model import ARIMA\n",
    "import statsmodels.api as sm\n",
    "\n",
    "SARIMA_3_1_2_111 = sm.tsa.SARIMAX(kanagawa_sl_nor[:len(kanagawa_sl_nor) - 20], order=(1,0,3), seasonal_order=(1,1,1,12), enforce_stationarity = False, enforce_invertibility = False).fit()\n",
    "print(SARIMA_3_1_2_111.summary())"
   ]
  },
  {
   "cell_type": "code",
   "execution_count": 80,
   "metadata": {},
   "outputs": [
    {
     "ename": "AttributeError",
     "evalue": "'numpy.ndarray' object has no attribute 'values'",
     "output_type": "error",
     "traceback": [
      "\u001b[0;31m---------------------------------------------------------------------------\u001b[0m",
      "\u001b[0;31mAttributeError\u001b[0m                            Traceback (most recent call last)",
      "\u001b[0;32m<ipython-input-80-90e9ba821e7f>\u001b[0m in \u001b[0;36m<module>\u001b[0;34m()\u001b[0m\n\u001b[1;32m      3\u001b[0m \u001b[0mfig\u001b[0m \u001b[0;34m=\u001b[0m \u001b[0mplt\u001b[0m\u001b[0;34m.\u001b[0m\u001b[0mfigure\u001b[0m\u001b[0;34m(\u001b[0m\u001b[0mfigsize\u001b[0m\u001b[0;34m=\u001b[0m\u001b[0;34m(\u001b[0m\u001b[0;36m12\u001b[0m\u001b[0;34m,\u001b[0m\u001b[0;36m8\u001b[0m\u001b[0;34m)\u001b[0m\u001b[0;34m)\u001b[0m\u001b[0;34m\u001b[0m\u001b[0m\n\u001b[1;32m      4\u001b[0m \u001b[0max1\u001b[0m \u001b[0;34m=\u001b[0m \u001b[0mfig\u001b[0m\u001b[0;34m.\u001b[0m\u001b[0madd_subplot\u001b[0m\u001b[0;34m(\u001b[0m\u001b[0;36m211\u001b[0m\u001b[0;34m)\u001b[0m\u001b[0;34m\u001b[0m\u001b[0m\n\u001b[0;32m----> 5\u001b[0;31m \u001b[0mfig\u001b[0m \u001b[0;34m=\u001b[0m \u001b[0msm\u001b[0m\u001b[0;34m.\u001b[0m\u001b[0mgraphics\u001b[0m\u001b[0;34m.\u001b[0m\u001b[0mtsa\u001b[0m\u001b[0;34m.\u001b[0m\u001b[0mplot_acf\u001b[0m\u001b[0;34m(\u001b[0m\u001b[0mresid\u001b[0m\u001b[0;34m.\u001b[0m\u001b[0mvalues\u001b[0m\u001b[0;34m.\u001b[0m\u001b[0msqueeze\u001b[0m\u001b[0;34m(\u001b[0m\u001b[0;34m)\u001b[0m\u001b[0;34m,\u001b[0m \u001b[0mlags\u001b[0m\u001b[0;34m=\u001b[0m\u001b[0;36m40\u001b[0m\u001b[0;34m,\u001b[0m \u001b[0max\u001b[0m\u001b[0;34m=\u001b[0m\u001b[0max1\u001b[0m\u001b[0;34m)\u001b[0m\u001b[0;34m\u001b[0m\u001b[0m\n\u001b[0m\u001b[1;32m      6\u001b[0m \u001b[0max2\u001b[0m \u001b[0;34m=\u001b[0m \u001b[0mfig\u001b[0m\u001b[0;34m.\u001b[0m\u001b[0madd_subplot\u001b[0m\u001b[0;34m(\u001b[0m\u001b[0;36m212\u001b[0m\u001b[0;34m)\u001b[0m\u001b[0;34m\u001b[0m\u001b[0m\n\u001b[1;32m      7\u001b[0m \u001b[0mfig\u001b[0m \u001b[0;34m=\u001b[0m \u001b[0msm\u001b[0m\u001b[0;34m.\u001b[0m\u001b[0mgraphics\u001b[0m\u001b[0;34m.\u001b[0m\u001b[0mtsa\u001b[0m\u001b[0;34m.\u001b[0m\u001b[0mplot_pacf\u001b[0m\u001b[0;34m(\u001b[0m\u001b[0mresid\u001b[0m\u001b[0;34m,\u001b[0m \u001b[0mlags\u001b[0m\u001b[0;34m=\u001b[0m\u001b[0;36m40\u001b[0m\u001b[0;34m,\u001b[0m \u001b[0max\u001b[0m\u001b[0;34m=\u001b[0m\u001b[0max2\u001b[0m\u001b[0;34m)\u001b[0m\u001b[0;34m\u001b[0m\u001b[0m\n",
      "\u001b[0;31mAttributeError\u001b[0m: 'numpy.ndarray' object has no attribute 'values'"
     ]
    }
   ],
   "source": [
    "plt.clf\n",
    "resid = SARIMA_3_1_2_111.resid\n",
    "fig = plt.figure(figsize=(12,8))\n",
    "ax1 = fig.add_subplot(211)\n",
    "fig = sm.graphics.tsa.plot_acf(resid.values.squeeze(), lags=40, ax=ax1)\n",
    "ax2 = fig.add_subplot(212)\n",
    "fig = sm.graphics.tsa.plot_pacf(resid, lags=40, ax=ax2)\n",
    "plt.show()"
   ]
  },
  {
   "cell_type": "code",
   "execution_count": 87,
   "metadata": {
    "scrolled": true
   },
   "outputs": [
    {
     "data": {
      "image/png": "[encoded data removed]",
      "text/plain": [
       "<matplotlib.figure.Figure at 0x7f5b64a520f0>"
      ]
     },
     "metadata": {},
     "output_type": "display_data"
    }
   ],
   "source": [
    "plt.plot(SARIMA_3_1_2_111.predict(start=len(ka_data) - 20,end=len(ka_data)))\n",
    "plt.plot(ka_data[len(ka_data) - 20:len(ka_data)])\n",
    "plt.show()"
   ]
  },
  {
   "cell_type": "code",
   "execution_count": null,
   "metadata": {
    "scrolled": true
   },
   "outputs": [],
   "source": [
    "from statsmodels.tsa.arima_model import ARIMA\n",
    "results_season = ARIMA(ka_data[:len(ka_data) - 20], order=(3,1,2)).fit(dist = False)\n",
    "results_season.params"
   ]
  },
  {
   "cell_type": "code",
   "execution_count": null,
   "metadata": {},
   "outputs": [],
   "source": [
    "resid = results_season.resid\n",
    "fig = plt.figure(figsize=(12,8))\n",
    "ax1 = fig.add_subplot(211)\n",
    "fig = sm.graphics.tsa.plot_acf(resid.values.squeeze(), lags=40, ax=ax1)\n",
    "ax2 = fig.add_subplot(212)\n",
    "fig = sm.graphics.tsa.plot_pacf(resid, lags=40, ax=ax2)"
   ]
  },
  {
   "cell_type": "code",
   "execution_count": null,
   "metadata": {},
   "outputs": [],
   "source": [
    "plt.plot(results_season.predict(start=len(ka_data) - 200,end=len(ka_data)))\n",
    "plt.plot(ka_data[len(ka_data) - 200:len(ka_data)])\n",
    "plt.show()"
   ]
  }
 ],
 "metadata": {
  "kernelspec": {
   "display_name": "Python 3",
   "language": "python",
   "name": "python3"
  },
  "language_info": {
   "codemirror_mode": {
    "name": "ipython",
    "version": 3
   },
   "file_extension": ".py",
   "mimetype": "text/x-python",
   "name": "python",
   "nbconvert_exporter": "python",
   "pygments_lexer": "ipython3",
   "version": "3.5.4"
  }
 },
 "nbformat": 4,
 "nbformat_minor": 2
}
